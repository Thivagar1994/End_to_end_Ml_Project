{
 "cells": [
  {
   "cell_type": "code",
   "execution_count": 1,
   "id": "e3f60716",
   "metadata": {},
   "outputs": [],
   "source": [
    "import os"
   ]
  },
  {
   "cell_type": "code",
   "execution_count": 2,
   "id": "185f6abc",
   "metadata": {},
   "outputs": [
    {
     "data": {
      "text/plain": [
       "'c:\\\\Users\\\\mkman\\\\OneDrive\\\\Desktop\\\\Trail_and_Error\\\\End_to_end_Ml_Project\\\\research'"
      ]
     },
     "execution_count": 2,
     "metadata": {},
     "output_type": "execute_result"
    }
   ],
   "source": [
    "%pwd"
   ]
  },
  {
   "cell_type": "code",
   "execution_count": 3,
   "id": "f7d2c224",
   "metadata": {},
   "outputs": [
    {
     "name": "stdout",
     "output_type": "stream",
     "text": [
      "c:\\Users\\mkman\\OneDrive\\Desktop\\Trail_and_Error\\End_to_end_Ml_Project\n"
     ]
    }
   ],
   "source": [
    "%cd .."
   ]
  },
  {
   "cell_type": "code",
   "execution_count": 4,
   "id": "da1f64b4",
   "metadata": {},
   "outputs": [
    {
     "data": {
      "text/plain": [
       "'c:\\\\Users\\\\mkman\\\\OneDrive\\\\Desktop\\\\Trail_and_Error\\\\End_to_end_Ml_Project'"
      ]
     },
     "execution_count": 4,
     "metadata": {},
     "output_type": "execute_result"
    }
   ],
   "source": [
    "%pwd"
   ]
  },
  {
   "cell_type": "code",
   "execution_count": 9,
   "id": "6717b3bc",
   "metadata": {},
   "outputs": [],
   "source": [
    "from dataclasses import dataclass\n",
    "from pathlib import Path\n",
    "\n",
    "\n",
    "@dataclass(frozen=True)\n",
    "class ModelEvaluationConfig:\n",
    "    root_dir: Path\n",
    "    test_data_path: str\n",
    "    model_path: Path\n",
    "    all_params: dict\n",
    "    metric_file_name: Path\n",
    "    target_column: str"
   ]
  },
  {
   "cell_type": "code",
   "execution_count": null,
   "id": "d3dbd920",
   "metadata": {},
   "outputs": [],
   "source": [
    "from mlProject.constant import *\n",
    "from mlProject.utils.common import read_yaml, create_directories\n"
   ]
  },
  {
   "cell_type": "code",
   "execution_count": 11,
   "id": "f3b56328",
   "metadata": {},
   "outputs": [],
   "source": [
    "class ConfigurationManager:\n",
    "    def __init__(\n",
    "        self,\n",
    "        config_filepath = CONFIG_FILE_PATH,\n",
    "        params_filepath = PARAMS_FILE_PATH,\n",
    "        schema_filepath = SCHEMA_FILE_PATH):\n",
    "        \n",
    "        self.config = read_yaml(config_filepath)\n",
    "        self.params = read_yaml(params_filepath)\n",
    "        self.schema = read_yaml(schema_filepath)\n",
    "        \n",
    "        create_directories([self.config.artifacts_root])\n",
    "        \n",
    "        \n",
    "    def get_model_evaluation_config(self) -> ModelEvaluationConfig:\n",
    "        config = self.config.model_evaluation\n",
    "        params = self.params.ElasticNet\n",
    "        schema = self.schema.TARGET_COLUMN   # This already gives the string value \"quality\"\n",
    "\n",
    "        create_directories([config.root_dir])\n",
    "\n",
    "        model_evaluation_config = ModelEvaluationConfig(\n",
    "            root_dir=config.root_dir,\n",
    "            test_data_path=config.test_data_path,\n",
    "            model_path=config.model_path,\n",
    "            all_params=params,\n",
    "            metric_file_name=config.metric_file_name,\n",
    "            target_column=schema   # ✅ no `.name`, schema itself is the string\n",
    "        )\n",
    "        return model_evaluation_config\n",
    "\n"
   ]
  },
  {
   "cell_type": "code",
   "execution_count": 13,
   "id": "3abb13ec",
   "metadata": {},
   "outputs": [],
   "source": [
    "import os\n",
    "import pandas as pd\n",
    "from sklearn.metrics import mean_squared_error, mean_absolute_error, r2_score\n",
    "from urllib.parse import urlparse\n",
    "from mlProject.utils.common import save_json\n",
    "import numpy as np\n",
    "import joblib "
   ]
  },
  {
   "cell_type": "code",
   "execution_count": 14,
   "id": "6d81bdfb",
   "metadata": {},
   "outputs": [],
   "source": [
    "\n",
    "\n",
    "class ModelEvaluation:\n",
    "    def __init__(self, config: ModelEvaluationConfig) -> None:\n",
    "        self.config = config\n",
    "        \n",
    "    def eval_metrics(self, actual, pred):\n",
    "        rmse = np.sqrt(mean_squared_error(actual, pred))\n",
    "        mae = mean_squared_error(actual, pred)\n",
    "        r2 = r2_score(actual, pred)\n",
    "        return rmse, mae, r2\n",
    "    \n",
    "    def save_results(self):\n",
    "        # Load the test dataset\n",
    "        test_data = pd.read_csv(self.config.test_data_path)\n",
    "\n",
    "        # Load the trained model\n",
    "        model = joblib.load(self.config.model_path)\n",
    "\n",
    "        # Split features (X) and target (y)\n",
    "        test_x = test_data.drop([self.config.target_column], axis=1)\n",
    "        test_y = test_data[self.config.target_column]\n",
    "\n",
    "        # Make predictions\n",
    "        predicted_qualities = model.predict(test_x)\n",
    "\n",
    "        # Evaluate predictions\n",
    "        (rmse, mae, r2) = self.eval_metrics(test_y, predicted_qualities)\n",
    "\n",
    "        # Saving metrics as local JSON file\n",
    "        scores = {\"rmse\": rmse, \"mae\": mae, \"r2\": r2}\n",
    "        save_json(path=Path(self.config.metric_file_name), data=scores)\n"
   ]
  },
  {
   "cell_type": "code",
   "execution_count": 15,
   "id": "72d3655d",
   "metadata": {},
   "outputs": [
    {
     "name": "stdout",
     "output_type": "stream",
     "text": [
      "[2025-09-01 22:23:51,699: INFO: common: yaml file: config\\config.yaml loaded succesfully]\n",
      "[2025-09-01 22:23:51,724: INFO: common: yaml file: params.yaml loaded succesfully]\n",
      "[2025-09-01 22:23:51,733: INFO: common: yaml file: schema.yaml loaded succesfully]\n",
      "[2025-09-01 22:23:51,746: INFO: common: created directory at: artifacts]\n"
     ]
    },
    {
     "ename": "BoxKeyError",
     "evalue": "\"'ConfigBox' object has no attribute 'model_evaluation'\"",
     "output_type": "error",
     "traceback": [
      "\u001b[31m---------------------------------------------------------------------------\u001b[39m",
      "\u001b[31mKeyError\u001b[39m                                  Traceback (most recent call last)",
      "\u001b[36mFile \u001b[39m\u001b[32mc:\\Users\\mkman\\OneDrive\\Desktop\\Trail_and_Error\\End_to_end_Ml_Project\\env\\Lib\\site-packages\\box\\box.py:503\u001b[39m, in \u001b[36mBox.__getitem__\u001b[39m\u001b[34m(self, item, _ignore_default)\u001b[39m\n\u001b[32m    502\u001b[39m \u001b[38;5;28;01mtry\u001b[39;00m:\n\u001b[32m--> \u001b[39m\u001b[32m503\u001b[39m     \u001b[38;5;28;01mreturn\u001b[39;00m \u001b[38;5;28;43msuper\u001b[39;49m\u001b[43m(\u001b[49m\u001b[43m)\u001b[49m\u001b[43m.\u001b[49m\u001b[34;43m__getitem__\u001b[39;49m\u001b[43m(\u001b[49m\u001b[43mitem\u001b[49m\u001b[43m)\u001b[49m\n\u001b[32m    504\u001b[39m \u001b[38;5;28;01mexcept\u001b[39;00m \u001b[38;5;167;01mKeyError\u001b[39;00m \u001b[38;5;28;01mas\u001b[39;00m err:\n",
      "\u001b[31mKeyError\u001b[39m: 'model_evaluation'",
      "\nThe above exception was the direct cause of the following exception:\n",
      "\u001b[31mBoxKeyError\u001b[39m                               Traceback (most recent call last)",
      "\u001b[36mFile \u001b[39m\u001b[32mc:\\Users\\mkman\\OneDrive\\Desktop\\Trail_and_Error\\End_to_end_Ml_Project\\env\\Lib\\site-packages\\box\\box.py:536\u001b[39m, in \u001b[36mBox.__getattr__\u001b[39m\u001b[34m(self, item)\u001b[39m\n\u001b[32m    535\u001b[39m \u001b[38;5;28;01mtry\u001b[39;00m:\n\u001b[32m--> \u001b[39m\u001b[32m536\u001b[39m     value = \u001b[38;5;28;43mself\u001b[39;49m\u001b[43m.\u001b[49m\u001b[34;43m__getitem__\u001b[39;49m\u001b[43m(\u001b[49m\u001b[43mitem\u001b[49m\u001b[43m,\u001b[49m\u001b[43m \u001b[49m\u001b[43m_ignore_default\u001b[49m\u001b[43m=\u001b[49m\u001b[38;5;28;43;01mTrue\u001b[39;49;00m\u001b[43m)\u001b[49m\n\u001b[32m    537\u001b[39m \u001b[38;5;28;01mexcept\u001b[39;00m \u001b[38;5;167;01mKeyError\u001b[39;00m:\n",
      "\u001b[36mFile \u001b[39m\u001b[32mc:\\Users\\mkman\\OneDrive\\Desktop\\Trail_and_Error\\End_to_end_Ml_Project\\env\\Lib\\site-packages\\box\\box.py:524\u001b[39m, in \u001b[36mBox.__getitem__\u001b[39m\u001b[34m(self, item, _ignore_default)\u001b[39m\n\u001b[32m    523\u001b[39m         \u001b[38;5;28;01mreturn\u001b[39;00m \u001b[38;5;28mself\u001b[39m.__get_default(item)\n\u001b[32m--> \u001b[39m\u001b[32m524\u001b[39m     \u001b[38;5;28;01mraise\u001b[39;00m BoxKeyError(\u001b[38;5;28mstr\u001b[39m(err)) \u001b[38;5;28;01mfrom\u001b[39;00m\u001b[38;5;250m \u001b[39m\u001b[34;01m_exception_cause\u001b[39;00m(err)\n\u001b[32m    525\u001b[39m \u001b[38;5;28;01mexcept\u001b[39;00m \u001b[38;5;167;01mTypeError\u001b[39;00m \u001b[38;5;28;01mas\u001b[39;00m err:\n",
      "\u001b[31mBoxKeyError\u001b[39m: \"'model_evaluation'\"",
      "\nDuring handling of the above exception, another exception occurred:\n",
      "\u001b[31mAttributeError\u001b[39m                            Traceback (most recent call last)",
      "\u001b[36mFile \u001b[39m\u001b[32mc:\\Users\\mkman\\OneDrive\\Desktop\\Trail_and_Error\\End_to_end_Ml_Project\\env\\Lib\\site-packages\\box\\box.py:538\u001b[39m, in \u001b[36mBox.__getattr__\u001b[39m\u001b[34m(self, item)\u001b[39m\n\u001b[32m    537\u001b[39m     \u001b[38;5;28;01mexcept\u001b[39;00m \u001b[38;5;167;01mKeyError\u001b[39;00m:\n\u001b[32m--> \u001b[39m\u001b[32m538\u001b[39m         value = \u001b[38;5;28;43mobject\u001b[39;49m\u001b[43m.\u001b[49m\u001b[34;43m__getattribute__\u001b[39;49m\u001b[43m(\u001b[49m\u001b[38;5;28;43mself\u001b[39;49m\u001b[43m,\u001b[49m\u001b[43m \u001b[49m\u001b[43mitem\u001b[49m\u001b[43m)\u001b[49m\n\u001b[32m    539\u001b[39m \u001b[38;5;28;01mexcept\u001b[39;00m \u001b[38;5;167;01mAttributeError\u001b[39;00m \u001b[38;5;28;01mas\u001b[39;00m err:\n",
      "\u001b[31mAttributeError\u001b[39m: 'ConfigBox' object has no attribute 'model_evaluation'",
      "\nThe above exception was the direct cause of the following exception:\n",
      "\u001b[31mBoxKeyError\u001b[39m                               Traceback (most recent call last)",
      "\u001b[36mFile \u001b[39m\u001b[32mc:\\Users\\mkman\\OneDrive\\Desktop\\Trail_and_Error\\End_to_end_Ml_Project\\env\\Lib\\site-packages\\box\\config_box.py:28\u001b[39m, in \u001b[36mConfigBox.__getattr__\u001b[39m\u001b[34m(self, item)\u001b[39m\n\u001b[32m     27\u001b[39m \u001b[38;5;28;01mtry\u001b[39;00m:\n\u001b[32m---> \u001b[39m\u001b[32m28\u001b[39m     \u001b[38;5;28;01mreturn\u001b[39;00m \u001b[38;5;28;43msuper\u001b[39;49m\u001b[43m(\u001b[49m\u001b[43m)\u001b[49m\u001b[43m.\u001b[49m\u001b[34;43m__getattr__\u001b[39;49m\u001b[43m(\u001b[49m\u001b[43mitem\u001b[49m\u001b[43m)\u001b[49m\n\u001b[32m     29\u001b[39m \u001b[38;5;28;01mexcept\u001b[39;00m \u001b[38;5;167;01mAttributeError\u001b[39;00m:\n",
      "\u001b[36mFile \u001b[39m\u001b[32mc:\\Users\\mkman\\OneDrive\\Desktop\\Trail_and_Error\\End_to_end_Ml_Project\\env\\Lib\\site-packages\\box\\box.py:552\u001b[39m, in \u001b[36mBox.__getattr__\u001b[39m\u001b[34m(self, item)\u001b[39m\n\u001b[32m    551\u001b[39m         \u001b[38;5;28;01mreturn\u001b[39;00m \u001b[38;5;28mself\u001b[39m.__get_default(item, attr=\u001b[38;5;28;01mTrue\u001b[39;00m)\n\u001b[32m--> \u001b[39m\u001b[32m552\u001b[39m     \u001b[38;5;28;01mraise\u001b[39;00m BoxKeyError(\u001b[38;5;28mstr\u001b[39m(err)) \u001b[38;5;28;01mfrom\u001b[39;00m\u001b[38;5;250m \u001b[39m\u001b[34;01m_exception_cause\u001b[39;00m(err)\n\u001b[32m    553\u001b[39m \u001b[38;5;28;01mreturn\u001b[39;00m value\n",
      "\u001b[31mBoxKeyError\u001b[39m: \"'ConfigBox' object has no attribute 'model_evaluation'\"",
      "\nDuring handling of the above exception, another exception occurred:\n",
      "\u001b[31mKeyError\u001b[39m                                  Traceback (most recent call last)",
      "\u001b[36mFile \u001b[39m\u001b[32mc:\\Users\\mkman\\OneDrive\\Desktop\\Trail_and_Error\\End_to_end_Ml_Project\\env\\Lib\\site-packages\\box\\box.py:503\u001b[39m, in \u001b[36mBox.__getitem__\u001b[39m\u001b[34m(self, item, _ignore_default)\u001b[39m\n\u001b[32m    502\u001b[39m \u001b[38;5;28;01mtry\u001b[39;00m:\n\u001b[32m--> \u001b[39m\u001b[32m503\u001b[39m     \u001b[38;5;28;01mreturn\u001b[39;00m \u001b[38;5;28;43msuper\u001b[39;49m\u001b[43m(\u001b[49m\u001b[43m)\u001b[49m\u001b[43m.\u001b[49m\u001b[34;43m__getitem__\u001b[39;49m\u001b[43m(\u001b[49m\u001b[43mitem\u001b[49m\u001b[43m)\u001b[49m\n\u001b[32m    504\u001b[39m \u001b[38;5;28;01mexcept\u001b[39;00m \u001b[38;5;167;01mKeyError\u001b[39;00m \u001b[38;5;28;01mas\u001b[39;00m err:\n",
      "\u001b[31mKeyError\u001b[39m: 'model_evaluation'",
      "\nThe above exception was the direct cause of the following exception:\n",
      "\u001b[31mBoxKeyError\u001b[39m                               Traceback (most recent call last)",
      "\u001b[36mFile \u001b[39m\u001b[32mc:\\Users\\mkman\\OneDrive\\Desktop\\Trail_and_Error\\End_to_end_Ml_Project\\env\\Lib\\site-packages\\box\\box.py:536\u001b[39m, in \u001b[36mBox.__getattr__\u001b[39m\u001b[34m(self, item)\u001b[39m\n\u001b[32m    535\u001b[39m \u001b[38;5;28;01mtry\u001b[39;00m:\n\u001b[32m--> \u001b[39m\u001b[32m536\u001b[39m     value = \u001b[38;5;28;43mself\u001b[39;49m\u001b[43m.\u001b[49m\u001b[34;43m__getitem__\u001b[39;49m\u001b[43m(\u001b[49m\u001b[43mitem\u001b[49m\u001b[43m,\u001b[49m\u001b[43m \u001b[49m\u001b[43m_ignore_default\u001b[49m\u001b[43m=\u001b[49m\u001b[38;5;28;43;01mTrue\u001b[39;49;00m\u001b[43m)\u001b[49m\n\u001b[32m    537\u001b[39m \u001b[38;5;28;01mexcept\u001b[39;00m \u001b[38;5;167;01mKeyError\u001b[39;00m:\n",
      "\u001b[36mFile \u001b[39m\u001b[32mc:\\Users\\mkman\\OneDrive\\Desktop\\Trail_and_Error\\End_to_end_Ml_Project\\env\\Lib\\site-packages\\box\\box.py:524\u001b[39m, in \u001b[36mBox.__getitem__\u001b[39m\u001b[34m(self, item, _ignore_default)\u001b[39m\n\u001b[32m    523\u001b[39m         \u001b[38;5;28;01mreturn\u001b[39;00m \u001b[38;5;28mself\u001b[39m.__get_default(item)\n\u001b[32m--> \u001b[39m\u001b[32m524\u001b[39m     \u001b[38;5;28;01mraise\u001b[39;00m BoxKeyError(\u001b[38;5;28mstr\u001b[39m(err)) \u001b[38;5;28;01mfrom\u001b[39;00m\u001b[38;5;250m \u001b[39m\u001b[34;01m_exception_cause\u001b[39;00m(err)\n\u001b[32m    525\u001b[39m \u001b[38;5;28;01mexcept\u001b[39;00m \u001b[38;5;167;01mTypeError\u001b[39;00m \u001b[38;5;28;01mas\u001b[39;00m err:\n",
      "\u001b[31mBoxKeyError\u001b[39m: \"'model_evaluation'\"",
      "\nDuring handling of the above exception, another exception occurred:\n",
      "\u001b[31mAttributeError\u001b[39m                            Traceback (most recent call last)",
      "\u001b[36mFile \u001b[39m\u001b[32mc:\\Users\\mkman\\OneDrive\\Desktop\\Trail_and_Error\\End_to_end_Ml_Project\\env\\Lib\\site-packages\\box\\box.py:538\u001b[39m, in \u001b[36mBox.__getattr__\u001b[39m\u001b[34m(self, item)\u001b[39m\n\u001b[32m    537\u001b[39m     \u001b[38;5;28;01mexcept\u001b[39;00m \u001b[38;5;167;01mKeyError\u001b[39;00m:\n\u001b[32m--> \u001b[39m\u001b[32m538\u001b[39m         value = \u001b[38;5;28;43mobject\u001b[39;49m\u001b[43m.\u001b[49m\u001b[34;43m__getattribute__\u001b[39;49m\u001b[43m(\u001b[49m\u001b[38;5;28;43mself\u001b[39;49m\u001b[43m,\u001b[49m\u001b[43m \u001b[49m\u001b[43mitem\u001b[49m\u001b[43m)\u001b[49m\n\u001b[32m    539\u001b[39m \u001b[38;5;28;01mexcept\u001b[39;00m \u001b[38;5;167;01mAttributeError\u001b[39;00m \u001b[38;5;28;01mas\u001b[39;00m err:\n",
      "\u001b[31mAttributeError\u001b[39m: 'ConfigBox' object has no attribute 'model_evaluation'",
      "\nThe above exception was the direct cause of the following exception:\n",
      "\u001b[31mBoxKeyError\u001b[39m                               Traceback (most recent call last)",
      "\u001b[36mCell\u001b[39m\u001b[36m \u001b[39m\u001b[32mIn[15]\u001b[39m\u001b[32m, line 8\u001b[39m\n\u001b[32m      5\u001b[39m     model_evaluation_config.save_results()\n\u001b[32m      7\u001b[39m \u001b[38;5;28;01mexcept\u001b[39;00m \u001b[38;5;167;01mException\u001b[39;00m \u001b[38;5;28;01mas\u001b[39;00m e:\n\u001b[32m----> \u001b[39m\u001b[32m8\u001b[39m     \u001b[38;5;28;01mraise\u001b[39;00m e\n",
      "\u001b[36mCell\u001b[39m\u001b[36m \u001b[39m\u001b[32mIn[15]\u001b[39m\u001b[32m, line 3\u001b[39m\n\u001b[32m      1\u001b[39m \u001b[38;5;28;01mtry\u001b[39;00m:\n\u001b[32m      2\u001b[39m     config = ConfigurationManager()\n\u001b[32m----> \u001b[39m\u001b[32m3\u001b[39m     model_evaluation_config = \u001b[43mconfig\u001b[49m\u001b[43m.\u001b[49m\u001b[43mget_model_evaluation_config\u001b[49m\u001b[43m(\u001b[49m\u001b[43m)\u001b[49m\n\u001b[32m      4\u001b[39m     model_evaluation_config = ModelEvaluation(config= model_evaluation_config)\n\u001b[32m      5\u001b[39m     model_evaluation_config.save_results()\n",
      "\u001b[36mCell\u001b[39m\u001b[36m \u001b[39m\u001b[32mIn[11]\u001b[39m\u001b[32m, line 16\u001b[39m, in \u001b[36mConfigurationManager.get_model_evaluation_config\u001b[39m\u001b[34m(self)\u001b[39m\n\u001b[32m     15\u001b[39m \u001b[38;5;28;01mdef\u001b[39;00m\u001b[38;5;250m \u001b[39m\u001b[34mget_model_evaluation_config\u001b[39m(\u001b[38;5;28mself\u001b[39m) -> ModelEvaluationConfig:\n\u001b[32m---> \u001b[39m\u001b[32m16\u001b[39m     config = \u001b[38;5;28;43mself\u001b[39;49m\u001b[43m.\u001b[49m\u001b[43mconfig\u001b[49m\u001b[43m.\u001b[49m\u001b[43mmodel_evaluation\u001b[49m\n\u001b[32m     17\u001b[39m     params = \u001b[38;5;28mself\u001b[39m.params.ElasticNet\n\u001b[32m     18\u001b[39m     schema = \u001b[38;5;28mself\u001b[39m.schema.TARGET_COLUMN   \u001b[38;5;66;03m# This already gives the string value \"quality\"\u001b[39;00m\n",
      "\u001b[36mFile \u001b[39m\u001b[32mc:\\Users\\mkman\\OneDrive\\Desktop\\Trail_and_Error\\End_to_end_Ml_Project\\env\\Lib\\site-packages\\box\\config_box.py:30\u001b[39m, in \u001b[36mConfigBox.__getattr__\u001b[39m\u001b[34m(self, item)\u001b[39m\n\u001b[32m     28\u001b[39m     \u001b[38;5;28;01mreturn\u001b[39;00m \u001b[38;5;28msuper\u001b[39m().\u001b[34m__getattr__\u001b[39m(item)\n\u001b[32m     29\u001b[39m \u001b[38;5;28;01mexcept\u001b[39;00m \u001b[38;5;167;01mAttributeError\u001b[39;00m:\n\u001b[32m---> \u001b[39m\u001b[32m30\u001b[39m     \u001b[38;5;28;01mreturn\u001b[39;00m \u001b[38;5;28;43msuper\u001b[39;49m\u001b[43m(\u001b[49m\u001b[43m)\u001b[49m\u001b[43m.\u001b[49m\u001b[34;43m__getattr__\u001b[39;49m\u001b[43m(\u001b[49m\u001b[43mitem\u001b[49m\u001b[43m.\u001b[49m\u001b[43mlower\u001b[49m\u001b[43m(\u001b[49m\u001b[43m)\u001b[49m\u001b[43m)\u001b[49m\n",
      "\u001b[36mFile \u001b[39m\u001b[32mc:\\Users\\mkman\\OneDrive\\Desktop\\Trail_and_Error\\End_to_end_Ml_Project\\env\\Lib\\site-packages\\box\\box.py:552\u001b[39m, in \u001b[36mBox.__getattr__\u001b[39m\u001b[34m(self, item)\u001b[39m\n\u001b[32m    550\u001b[39m             \u001b[38;5;28;01mraise\u001b[39;00m BoxKeyError(\u001b[33mf\u001b[39m\u001b[33m\"\u001b[39m\u001b[38;5;132;01m{\u001b[39;00mitem\u001b[38;5;132;01m}\u001b[39;00m\u001b[33m: Does not exist and internal methods are never defaulted\u001b[39m\u001b[33m\"\u001b[39m)\n\u001b[32m    551\u001b[39m         \u001b[38;5;28;01mreturn\u001b[39;00m \u001b[38;5;28mself\u001b[39m.__get_default(item, attr=\u001b[38;5;28;01mTrue\u001b[39;00m)\n\u001b[32m--> \u001b[39m\u001b[32m552\u001b[39m     \u001b[38;5;28;01mraise\u001b[39;00m BoxKeyError(\u001b[38;5;28mstr\u001b[39m(err)) \u001b[38;5;28;01mfrom\u001b[39;00m\u001b[38;5;250m \u001b[39m\u001b[34;01m_exception_cause\u001b[39;00m(err)\n\u001b[32m    553\u001b[39m \u001b[38;5;28;01mreturn\u001b[39;00m value\n",
      "\u001b[31mBoxKeyError\u001b[39m: \"'ConfigBox' object has no attribute 'model_evaluation'\""
     ]
    }
   ],
   "source": [
    "try:\n",
    "    config = ConfigurationManager()\n",
    "    model_evaluation_config = config.get_model_evaluation_config()\n",
    "    model_evaluation_config = ModelEvaluation(config= model_evaluation_config)\n",
    "    model_evaluation_config.save_results()\n",
    "\n",
    "except Exception as e:\n",
    "    raise e"
   ]
  }
 ],
 "metadata": {
  "kernelspec": {
   "display_name": "env (3.12.4)",
   "language": "python",
   "name": "python3"
  },
  "language_info": {
   "codemirror_mode": {
    "name": "ipython",
    "version": 3
   },
   "file_extension": ".py",
   "mimetype": "text/x-python",
   "name": "python",
   "nbconvert_exporter": "python",
   "pygments_lexer": "ipython3",
   "version": "3.12.4"
  }
 },
 "nbformat": 4,
 "nbformat_minor": 5
}
